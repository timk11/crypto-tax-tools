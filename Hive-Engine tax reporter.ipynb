{
 "cells": [
  {
   "cell_type": "markdown",
   "id": "2ab85e8b",
   "metadata": {},
   "source": [
    "# Hive-Engine Tax Reporter\n",
    "This notebook will produce a CSV file compatible with Koinly, which can be modified for other tax report formats.\n",
    "The resulting file may possibly contain errors or duplications, so please check the file manually before using it."
   ]
  },
  {
   "cell_type": "code",
   "execution_count": null,
   "id": "de8d756b",
   "metadata": {},
   "outputs": [],
   "source": [
    "## Uncheck below if packages are not yet installed\n",
    "# pip install hiveengine\n",
    "# pip install beem"
   ]
  },
  {
   "cell_type": "code",
   "execution_count": null,
   "id": "470d1cfb",
   "metadata": {},
   "outputs": [],
   "source": [
    "from hiveengine.api import Api\n",
    "from hiveengine.wallet import Wallet\n",
    "from beem import Hive\n",
    "from datetime import datetime as dt\n",
    "import pandas as pd\n",
    "import requests"
   ]
  },
  {
   "cell_type": "code",
   "execution_count": null,
   "id": "13dc857d",
   "metadata": {},
   "outputs": [],
   "source": [
    "api = Api()"
   ]
  },
  {
   "cell_type": "code",
   "execution_count": null,
   "id": "404d8422",
   "metadata": {},
   "outputs": [],
   "source": [
    "account_name = \"ACCOUNT_NAME\""
   ]
  },
  {
   "cell_type": "code",
   "execution_count": null,
   "id": "924fad45",
   "metadata": {},
   "outputs": [],
   "source": [
    "balances = Wallet(account_name, blockchain_instance=Hive()).get_balances()\n",
    "tokens = [balance['symbol'] for balance in balances]"
   ]
  },
  {
   "cell_type": "code",
   "execution_count": null,
   "id": "70ff6c9c",
   "metadata": {},
   "outputs": [],
   "source": [
    "df = pd.DataFrame()\n",
    "for token in tokens:\n",
    "    for line in api.get_history(account_name, token):\n",
    "        df = df.append(line, ignore_index=True)"
   ]
  },
  {
   "cell_type": "code",
   "execution_count": null,
   "id": "1e20bbd8",
   "metadata": {},
   "outputs": [],
   "source": [
    "dates = []\n",
    "for ix in df.index:\n",
    "    date = dt.fromtimestamp(df['timestamp'][ix])\n",
    "    dates.append(dt.strptime(str(date), '%Y-%m-%d %H:%M:%S'))\n",
    "df['DateTime'] = dates"
   ]
  },
  {
   "cell_type": "code",
   "execution_count": null,
   "id": "384b1960",
   "metadata": {},
   "outputs": [],
   "source": [
    "df.head()"
   ]
  },
  {
   "cell_type": "code",
   "execution_count": null,
   "id": "d6d4720f",
   "metadata": {},
   "outputs": [],
   "source": [
    "columns = ['Date', 'Sent Amount', 'Sent Currency', 'Received Amount', 'Received Currency',\n",
    "           'Description', 'Net Worth Amount', 'Net Worth Currency', 'TxHash']\n",
    "report = pd.DataFrame(columns=columns)"
   ]
  },
  {
   "cell_type": "code",
   "execution_count": null,
   "id": "8ada5365",
   "metadata": {},
   "outputs": [],
   "source": [
    "for ix in df.index:\n",
    "    if df['operation'][ix] == 'market_buy':\n",
    "        report = report.append({'Date': df['DateTime'][ix], 'Sent Amount': df['quantityHive'][ix], 'Sent Currency': 'SWAP.HIVE',\n",
    "                        'Received Amount': df['quantityTokens'][ix], 'Received Currency': df['symbol'][ix],\n",
    "                        'Description': df['operation'][ix], 'TxHash': df['transactionId'][ix]}, ignore_index=True)\n",
    "    elif df['operation'][ix] == 'market_sell':\n",
    "        report = report.append({'Date': df['DateTime'][ix], 'Sent Amount': df['quantityTokens'][ix],\n",
    "                        'Sent Currency': df['symbol'][ix], 'Received Amount': df['quantityHive'][ix], 'Received Currency': 'SWAP.HIVE',\n",
    "                        'Description': df['operation'][ix], 'TxHash': df['transactionId'][ix]}, ignore_index=True)\n",
    "    elif df['quantity'].isnull()[ix]:\n",
    "        continue\n",
    "    elif df['from'][ix] == account_name:\n",
    "        report = report.append({'Date': df['DateTime'][ix], 'Sent Amount': df['quantity'][ix], 'Sent Currency': df['symbol'][ix],\n",
    "                        'Description': df['operation'][ix], 'TxHash': df['transactionId'][ix]}, ignore_index=True)\n",
    "    elif df['to'][ix] == account_name:\n",
    "        report = report.append({'Date': df['DateTime'][ix], 'Received Amount': df['quantity'][ix], 'Received Currency': df['symbol'][ix],\n",
    "                        'Description': df['operation'][ix], 'TxHash': df['transactionId'][ix]}, ignore_index=True)\n",
    "    else:\n",
    "        print(\"This transaction was not included:\\n\", df.loc[ix].to_dict(),\"\\n\")"
   ]
  },
  {
   "cell_type": "code",
   "execution_count": null,
   "id": "0076fc65",
   "metadata": {},
   "outputs": [],
   "source": [
    "report['Net Worth Currency'] = 'USD'"
   ]
  },
  {
   "cell_type": "code",
   "execution_count": null,
   "id": "855508ce",
   "metadata": {},
   "outputs": [],
   "source": [
    "# Modified from https://colab.research.google.com/drive/1bFfEii5QAaJEaHLtBmJVq2ctpQJi2MOw?usp=sharing by Daniel Himmelstein\n",
    "def price_history(token):\n",
    "    response = requests.get('https://accounts.hive-engine.com/marketHistory', params=dict(symbol=token))\n",
    "    response.raise_for_status()\n",
    "    price_data = pd.json_normalize(response.json())\n",
    "    try:\n",
    "        price_data['date'] = pd.to_datetime(price_data.timestamp, unit=\"s\")\n",
    "    except:\n",
    "        pass\n",
    "    return price_data"
   ]
  },
  {
   "cell_type": "code",
   "execution_count": null,
   "id": "490a322d",
   "metadata": {},
   "outputs": [],
   "source": [
    "response = requests.get('https://api.coingecko.com/api/v3/coins/hive/market_chart?vs_currency=usd&days=max')\n",
    "response.raise_for_status()\n",
    "hive_price = pd.DataFrame(response.json()['prices'], columns=['timestamp', 'price'])\n",
    "hive_price.timestamp = hive_price.timestamp/1000\n",
    "hive_price['date'] = pd.to_datetime(hive_price.timestamp, unit=\"s\")"
   ]
  },
  {
   "cell_type": "code",
   "execution_count": null,
   "id": "395e4827",
   "metadata": {},
   "outputs": [],
   "source": [
    "sent_df = report.dropna(subset=['Sent Currency'])\n",
    "rec_df = report.dropna(subset=['Received Currency'])\n",
    "for token in tokens:\n",
    "    price_df = price_history(token)\n",
    "    if len(price_df) == 0:\n",
    "        continue\n",
    "    for ix in sent_df[sent_df['Sent Currency'].str.contains(token)].index:\n",
    "        idx = (price_df.timestamp < dt.strptime(str(sent_df.loc[ix].Date), '%Y-%m-%d %H:%M:%S').timestamp()).idxmax() - 1\n",
    "        if idx < 0:\n",
    "            idx = 0\n",
    "        ixh = (hive_price.timestamp >= dt.strptime(str(sent_df.loc[ix].Date), '%Y-%m-%d %H:%M:%S').timestamp()).idxmax()\n",
    "        try:\n",
    "            report.loc[ix, 'Net Worth Amount'] = float(price_df['openPrice'][idx]) * float(report['Sent Amount'][ix]) * hive_price['price'][ixh]\n",
    "        except:\n",
    "            print(\"This transaction was not included:\\n\", report.loc[ix].to_dict(),\"\\n\")\n",
    "    for ix in rec_df[rec_df['Received Currency'].str.contains(token)].index:\n",
    "        idx = (price_df.timestamp < dt.strptime(str(rec_df.loc[ix].Date), '%Y-%m-%d %H:%M:%S').timestamp()).idxmax() - 1\n",
    "        if idx < 0:\n",
    "            idx = 0\n",
    "        ixh = (hive_price.timestamp >= dt.strptime(str(rec_df.loc[ix].Date), '%Y-%m-%d %H:%M:%S').timestamp()).idxmax()\n",
    "        try:\n",
    "            report.loc[ix, 'Net Worth Amount'] = float(price_df['openPrice'][idx]) * float(report['Received Amount'][ix]) * hive_price['price'][ixh]\n",
    "        except:\n",
    "            print(\"This transaction was not included:\\n\", report.loc[ix].to_dict(),\"\\n\")"
   ]
  },
  {
   "cell_type": "code",
   "execution_count": null,
   "id": "1946c547",
   "metadata": {},
   "outputs": [],
   "source": [
    "token = 'SWAP.HIVE'\n",
    "for ix in sent_df[sent_df['Sent Currency'].str.contains(token)].index:\n",
    "    ixh = (hive_price.timestamp >= dt.strptime(str(sent_df.loc[ix].Date), '%Y-%m-%d %H:%M:%S').timestamp()).idxmax()\n",
    "    try:\n",
    "        report.loc[ix, 'Net Worth Amount'] = float(report['Sent Amount'][ix]) * hive_price['price'][ixh]\n",
    "    except:\n",
    "        print(\"This transaction was not included:\\n\", report.loc[ix].to_dict(),\"\\n\")\n",
    "for ix in rec_df[rec_df['Received Currency'].str.contains(token)].index:\n",
    "    ixh = (hive_price.timestamp >= dt.strptime(str(rec_df.loc[ix].Date), '%Y-%m-%d %H:%M:%S').timestamp()).idxmax()\n",
    "    try:\n",
    "        report.loc[ix, 'Net Worth Amount'] = float(report['Received Amount'][ix]) * hive_price['price'][ixh]\n",
    "    except:\n",
    "        print(\"This transaction was not included:\\n\", report.loc[ix].to_dict(),\"\\n\")"
   ]
  },
  {
   "cell_type": "code",
   "execution_count": null,
   "id": "4763151b",
   "metadata": {},
   "outputs": [],
   "source": [
    "for ix in sent_df.index:\n",
    "    if report.loc[ix, 'Sent Currency'][:5] == 'SWAP.':\n",
    "        report.loc[ix, 'Sent Currency'] = report.loc[ix, 'Sent Currency'][5:]\n",
    "for ix in rec_df.index:\n",
    "    if report.loc[ix, 'Received Currency'][:5] == 'SWAP.':\n",
    "        report.loc[ix, 'Received Currency'] = report.loc[ix, 'Received Currency'][5:]"
   ]
  },
  {
   "cell_type": "code",
   "execution_count": null,
   "id": "1cf483ca",
   "metadata": {},
   "outputs": [],
   "source": [
    "report.head()"
   ]
  },
  {
   "cell_type": "code",
   "execution_count": null,
   "id": "38d6691f",
   "metadata": {},
   "outputs": [],
   "source": [
    "filename = \"Hive-Engine_txs_\" + account_name + \"_\" + dt.strftime(dt.now(), \"%Y%m%d_%H%M%S\") + \".csv\""
   ]
  },
  {
   "cell_type": "code",
   "execution_count": null,
   "id": "10b9a00c",
   "metadata": {},
   "outputs": [],
   "source": [
    "report.to_csv(filename, index=False)"
   ]
  }
 ],
 "metadata": {
  "kernelspec": {
   "display_name": "Python 3 (ipykernel)",
   "language": "python",
   "name": "python3"
  },
  "language_info": {
   "codemirror_mode": {
    "name": "ipython",
    "version": 3
   },
   "file_extension": ".py",
   "mimetype": "text/x-python",
   "name": "python",
   "nbconvert_exporter": "python",
   "pygments_lexer": "ipython3",
   "version": "3.9.7"
  }
 },
 "nbformat": 4,
 "nbformat_minor": 5
}
