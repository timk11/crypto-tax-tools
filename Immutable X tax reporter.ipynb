{
 "cells": [
  {
   "cell_type": "markdown",
   "id": "2ef14496",
   "metadata": {},
   "source": [
    "# Immutable X Tax Reporter\n",
    "This notebook will produce a CSV file compatible with Koinly, which can be modified for other tax report formats.\n",
    "The resulting file may possibly contain errors, omissions or duplications, so please check the file manually before using it."
   ]
  },
  {
   "cell_type": "code",
   "execution_count": null,
   "id": "6407dcce",
   "metadata": {},
   "outputs": [],
   "source": [
    "import requests\n",
    "import pandas as pd\n",
    "from datetime import datetime as dt"
   ]
  },
  {
   "cell_type": "code",
   "execution_count": null,
   "id": "13ed0875",
   "metadata": {},
   "outputs": [],
   "source": [
    "address = 'ACCOUNT_ADDRESS'"
   ]
  },
  {
   "cell_type": "code",
   "execution_count": null,
   "id": "53b357c6",
   "metadata": {},
   "outputs": [],
   "source": [
    "url = 'https://api.x.immutable.com/v2/balances/' + address\n",
    "response = requests.get(url)\n",
    "tokens = {'': 'ETH'}\n",
    "erc20 = ['ETH']\n",
    "multipliers = {'ETH': 1e-18}"
   ]
  },
  {
   "cell_type": "code",
   "execution_count": null,
   "id": "98f49492",
   "metadata": {},
   "outputs": [],
   "source": [
    "while True:\n",
    "    if response.json()['result'] == []:\n",
    "        break\n",
    "    for item in response.json()['result']:\n",
    "        if item['symbol'] != 'ETH':\n",
    "            tokens[item['token_address']] = item['symbol']\n",
    "            erc20.append(item['symbol'])\n",
    "            url = 'https://api.x.immutable.com/v1/tokens/' + item['token_address']\n",
    "            resp = requests.get(url)\n",
    "            multipliers[item['symbol']] = 10**(-(int(resp.json()['decimals'])))\n",
    "    url = 'https://api.x.immutable.com/v2/balances/' + address + '&cursor=' + response.json()['cursor']\n",
    "    response = requests.get(url)"
   ]
  },
  {
   "cell_type": "code",
   "execution_count": null,
   "id": "964b5512",
   "metadata": {},
   "outputs": [],
   "source": [
    "def tokenName(tokenAddress):\n",
    "    global tokens, erc20, multipliers\n",
    "    url = 'https://api.x.immutable.com/v1/tokens/' + tokenAddress\n",
    "    response = requests.get(url)\n",
    "    if 'name' in response.json():\n",
    "        tokens[tokenAddress] = response.json()['name']\n",
    "        erc20.append(response.json()['name'])\n",
    "        multipliers[response.json()['name']] = 10**(-(int(resp.json()['decimals'])))\n",
    "        return response.json()['name']\n",
    "    else:\n",
    "        url = 'https://api.x.immutable.com/v1/collections/' + tokenAddress\n",
    "        response = requests.get(url)\n",
    "        tokens[tokenAddress] = response.json()['name']\n",
    "        multipliers[response.json()['name']] = 1\n",
    "        return response.json()['name']"
   ]
  },
  {
   "cell_type": "code",
   "execution_count": null,
   "id": "dfc5ce46",
   "metadata": {},
   "outputs": [],
   "source": [
    "report = pd.DataFrame(columns = ['Date', 'Sent Amount', 'Sent Currency', 'Received Amount', 'Received Currency',\n",
    "                      'Fee Amount', 'Fee Currency', 'Description', 'TxHash'])"
   ]
  },
  {
   "cell_type": "code",
   "execution_count": null,
   "id": "c44fa65d",
   "metadata": {},
   "outputs": [],
   "source": [
    "url = 'https://api.x.immutable.com/v1/mints?user=' + address + '&status=success'\n",
    "response = requests.get(url)\n",
    "while True:\n",
    "    if response.json()['result'] == []:\n",
    "        break\n",
    "    print(\"/\", end=\"\")\n",
    "    for item in response.json()['result']:\n",
    "        print(\".\", end=\"\")\n",
    "        txId = item['transaction_id']\n",
    "        tokenAddress = item['token']['data']['token_address']\n",
    "        if tokenAddress in tokens:\n",
    "            token = tokens[tokenAddress]\n",
    "        else:\n",
    "            token = tokenName(tokenAddress)\n",
    "        recAmt = int(item['token']['data']['quantity']) * multipliers[token]\n",
    "        tstamp = item['timestamp']\n",
    "        date = tstamp[8:10] + '/' + tstamp[5:7] + '/' + tstamp[0:4] + ' ' + tstamp[11:19]\n",
    "        if token in erc20:\n",
    "            report = report.append({'Date': date, 'Received Amount': recAmt, 'Received Currency': token,\n",
    "                      'TxHash': txId}, ignore_index=True)\n",
    "        else:\n",
    "            report = report.append({'Date': date, 'Received Amount': recAmt, 'Received Currency': 'NULL',\n",
    "                      'Description': token + ' #' + item['token']['data']['token_id'], 'TxHash': txId}, ignore_index=True)\n",
    "    url = 'https://api.x.immutable.com/v1/mints?user=' + address + '&status=success&cursor=' + response.json()['cursor']\n",
    "    response = requests.get(url)"
   ]
  },
  {
   "cell_type": "code",
   "execution_count": null,
   "id": "fc373a66",
   "metadata": {},
   "outputs": [],
   "source": [
    "url = 'https://api.x.immutable.com/v1/transfers?user=' + address + '&status=success'\n",
    "response = requests.get(url)\n",
    "while True:\n",
    "    if response.json()['result'] == []:\n",
    "        break\n",
    "    print(\"/\", end=\"\")\n",
    "    for item in response.json()['result']:\n",
    "        print(\".\", end=\"\")\n",
    "        txId = item['transaction_id']\n",
    "        tokenAddress = item['token']['data']['token_address']\n",
    "        if tokenAddress in tokens:\n",
    "            token = tokens[tokenAddress]\n",
    "        else:\n",
    "            token = tokenName(tokenAddress)\n",
    "        sentAmt = int(item['token']['data']['quantity']) * multipliers[token]\n",
    "        tstamp = item['timestamp']\n",
    "        date = tstamp[8:10] + '/' + tstamp[5:7] + '/' + tstamp[0:4] + ' ' + tstamp[11:19]\n",
    "        if token in erc20:\n",
    "            report = report.append({'Date': date, 'Sent Amount': sentAmt, 'Sent Currency': token,\n",
    "                      'TxHash': txId}, ignore_index=True)\n",
    "        else:\n",
    "            report = report.append({'Date': date, 'Sent Amount': sentAmt, 'Sent Currency': 'NULL',\n",
    "                      'Description': token + ' #' + item['token']['data']['token_id'], 'TxHash': txId}, ignore_index=True)\n",
    "    url = 'https://api.x.immutable.com/v1/transfers?user=' + address + '&status=success&cursor=' + response.json()['cursor']\n",
    "    response = requests.get(url)"
   ]
  },
  {
   "cell_type": "code",
   "execution_count": null,
   "id": "d57d6a94",
   "metadata": {},
   "outputs": [],
   "source": [
    "url = 'https://api.x.immutable.com/v1/transfers?receiver=' + address + '&status=success'\n",
    "response = requests.get(url)\n",
    "while True:\n",
    "    if response.json()['result'] == []:\n",
    "        break\n",
    "    print(\"/\", end=\"\")\n",
    "    for item in response.json()['result']:\n",
    "        print(\".\", end=\"\")\n",
    "        txId = item['transaction_id']\n",
    "        tokenAddress = item['token']['data']['token_address']\n",
    "        if tokenAddress in tokens:\n",
    "            token = tokens[tokenAddress]\n",
    "        else:\n",
    "            token = tokenName(tokenAddress)\n",
    "        recAmt = int(item['token']['data']['quantity']) * multipliers[token]\n",
    "        tstamp = item['timestamp']\n",
    "        date = tstamp[8:10] + '/' + tstamp[5:7] + '/' + tstamp[0:4] + ' ' + tstamp[11:19]\n",
    "        if token in erc20:\n",
    "            report = report.append({'Date': date, 'Received Amount': recAmt, 'Received Currency': token,\n",
    "                      'TxHash': txId}, ignore_index=True)\n",
    "        else:\n",
    "            report = report.append({'Date': date, 'Received Amount': recAmt, 'Received Currency': 'NULL',\n",
    "                      'Description': token + ' #' + item['token']['data']['token_id'], 'TxHash': txId}, ignore_index=True)\n",
    "    url = 'https://api.x.immutable.com/v1/transfers?receiver=' + address + '&status=success&cursor=' + response.json()['cursor']\n",
    "    response = requests.get(url)"
   ]
  },
  {
   "cell_type": "code",
   "execution_count": null,
   "id": "66dc57ed",
   "metadata": {},
   "outputs": [],
   "source": [
    "url = 'https://api.x.immutable.com/v1/deposits?user=' + address + '&status=success'\n",
    "response = requests.get(url)\n",
    "while True:\n",
    "    if response.json()['result'] == []:\n",
    "        break\n",
    "    print(\"/\", end=\"\")\n",
    "    for item in response.json()['result']:\n",
    "        print(\".\", end=\"\")\n",
    "        txId = item['transaction_id']\n",
    "        tokenAddress = item['token']['data']['token_address']\n",
    "        if tokenAddress in tokens:\n",
    "            token = tokens[tokenAddress]\n",
    "        else:\n",
    "            token = tokenName(tokenAddress)\n",
    "        recAmt = int(item['token']['data']['quantity']) * multipliers[token]\n",
    "        tstamp = item['timestamp']\n",
    "        date = tstamp[8:10] + '/' + tstamp[5:7] + '/' + tstamp[0:4] + ' ' + tstamp[11:19]\n",
    "        if token in erc20:\n",
    "            report = report.append({'Date': date, 'Received Amount': recAmt, 'Received Currency': token,\n",
    "                      'TxHash': txId}, ignore_index=True)\n",
    "        else:\n",
    "            report = report.append({'Date': date, 'Received Amount': recAmt, 'Received Currency': 'NULL',\n",
    "                      'Description': token + ' #' + item['token']['data']['token_id'], 'TxHash': txId}, ignore_index=True)\n",
    "    url = 'https://api.x.immutable.com/v1/deposits?user=' + address + '&status=success&cursor=' + response.json()['cursor']\n",
    "    response = requests.get(url)"
   ]
  },
  {
   "cell_type": "code",
   "execution_count": null,
   "id": "0e04fb7b",
   "metadata": {},
   "outputs": [],
   "source": [
    "url = 'https://api.x.immutable.com/v1/withdrawals?user=' + address + '&status=success'\n",
    "response = requests.get(url)\n",
    "while True:\n",
    "    if response.json()['result'] == []:\n",
    "        break\n",
    "    print(\"/\", end=\"\")\n",
    "    for item in response.json()['result']:\n",
    "        print(\".\", end=\"\")\n",
    "        txId = item['transaction_id']\n",
    "        tokenAddress = item['token']['data']['token_address']\n",
    "        if tokenAddress in tokens:\n",
    "            token = tokens[tokenAddress]\n",
    "        else:\n",
    "            token = tokenName(tokenAddress)\n",
    "        sentAmt = int(item['token']['data']['quantity']) * multipliers[token]\n",
    "        tstamp = item['timestamp']\n",
    "        date = tstamp[8:10] + '/' + tstamp[5:7] + '/' + tstamp[0:4] + ' ' + tstamp[11:19]\n",
    "        if token in erc20:\n",
    "            report = report.append({'Date': date, 'Sent Amount':sentAmt, 'Sent Currency': token,\n",
    "                      'TxHash': txId}, ignore_index=True)\n",
    "        else:\n",
    "            report = report.append({'Date': date, 'Sent Amount': sentAmt, 'Received Currency': 'NULL',\n",
    "                      'Description': token + ' #' + item['token']['data']['token_id'], 'TxHash': txId}, ignore_index=True)\n",
    "    url = 'https://api.x.immutable.com/v1/withdrawals?user=' + address + '&status=success&cursor=' + response.json()['cursor']\n",
    "    response = requests.get(url)"
   ]
  },
  {
   "cell_type": "code",
   "execution_count": null,
   "id": "76d666b5",
   "metadata": {},
   "outputs": [],
   "source": [
    "url = 'https://api.x.immutable.com/v1/orders?user=' + address + '&status=filled'\n",
    "response = requests.get(url)\n",
    "while True:\n",
    "    if response.json()['result'] == []:\n",
    "        break\n",
    "    print(\"/\", end=\"\")\n",
    "    for item in response.json()['result']:\n",
    "        print(\".\", end=\"\")\n",
    "        txId = item['order_id']\n",
    "        # Outgoing token(s):\n",
    "        tokenAddress = item['sell']['data']['token_address']\n",
    "        if tokenAddress in tokens:\n",
    "            sentToken = tokens[tokenAddress]\n",
    "        else:\n",
    "            sentToken = tokenName(tokenAddress)\n",
    "        sentAmt = int(item['sell']['data']['quantity']) * multipliers[sentToken]\n",
    "        if sentToken not in erc20:\n",
    "            desc = sentToken + ' #' + item['sell']['data']['token_id']\n",
    "        if item['sell']['data']['quantity_with_fees'] != '':\n",
    "            fee = int(item['sell']['data']['quantity_with_fees']) * multipliers[sentToken] - sentAmt\n",
    "        else:\n",
    "            fee = 0\n",
    "        # Incoming token(s):\n",
    "        tokenAddress = item['buy']['data']['token_address']\n",
    "        if tokenAddress in tokens:\n",
    "            recToken = tokens[tokenAddress]\n",
    "        else:\n",
    "            recToken = tokenName(tokenAddress)\n",
    "        recAmt = int(item['buy']['data']['quantity']) * multipliers[recToken]\n",
    "        if recToken not in erc20:\n",
    "            desc = recToken + ' #' + item['buy']['data']['token_id']\n",
    "        \n",
    "        tstamp = item['timestamp']\n",
    "        date = tstamp[8:10] + '/' + tstamp[5:7] + '/' + tstamp[0:4] + ' ' + tstamp[11:19]\n",
    "        if sentToken not in erc20:\n",
    "            report = report.append({'Date': date, 'Sent Amount':sentAmt, 'Sent Currency': 'NULL', 'Received Amount': recAmt,\n",
    "                                    'Received Currency': recToken, 'Description': desc, 'TxHash': txId}, ignore_index=True)\n",
    "        elif recToken not in erc20:\n",
    "            report = report.append({'Date': date, 'Sent Amount': sentAmt, 'Sent Currency': sentToken, 'Received Amount': recAmt,\n",
    "                                    'Received Currency': 'NULL', 'Fee Amount': fee, 'Fee Currency': sentToken,\n",
    "                                    'Description': desc, 'TxHash': txId}, ignore_index=True)\n",
    "        else:\n",
    "            report = report.append({'Date': date, 'Sent Amount': sentAmt, 'Sent Currency': sentToken, 'Received Amount': recAmt,\n",
    "                                    'Received Currency': recToken, 'Fee Amount': fee, 'Fee Currency': sentToken,\n",
    "                                    'TxHash': txId}, ignore_index=True)\n",
    "    url = 'https://api.x.immutable.com/v1/orders?user=' + address + '&status=filled&cursor=' + response.json()['cursor']\n",
    "    response = requests.get(url)"
   ]
  },
  {
   "cell_type": "code",
   "execution_count": null,
   "id": "847e166a",
   "metadata": {},
   "outputs": [],
   "source": [
    "report"
   ]
  },
  {
   "cell_type": "code",
   "execution_count": null,
   "id": "57aa8991",
   "metadata": {},
   "outputs": [],
   "source": [
    "filename = \"Immutable_X_txs_\" + address + \"_\" + dt.strftime(dt.now(), \"%Y%m%d_%H%M%S\") + \".csv\""
   ]
  },
  {
   "cell_type": "code",
   "execution_count": null,
   "id": "10acf9e2",
   "metadata": {},
   "outputs": [],
   "source": [
    "report.to_csv(filename, index=False)"
   ]
  }
 ],
 "metadata": {
  "kernelspec": {
   "display_name": "Python 3 (ipykernel)",
   "language": "python",
   "name": "python3"
  },
  "language_info": {
   "codemirror_mode": {
    "name": "ipython",
    "version": 3
   },
   "file_extension": ".py",
   "mimetype": "text/x-python",
   "name": "python",
   "nbconvert_exporter": "python",
   "pygments_lexer": "ipython3",
   "version": "3.9.7"
  }
 },
 "nbformat": 4,
 "nbformat_minor": 5
}
