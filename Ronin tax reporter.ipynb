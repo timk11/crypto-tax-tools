{
 "cells": [
  {
   "cell_type": "markdown",
   "id": "6f52502f",
   "metadata": {},
   "source": [
    "# Ronin Tax Reporter #\n",
    "This notebook will produce a CSV file compatible with Koinly, which can be modified for other tax report formats. The resulting file may possibly contain errors or duplications, so please check the file manually before using it."
   ]
  },
  {
   "cell_type": "code",
   "execution_count": null,
   "id": "6299dbf4",
   "metadata": {},
   "outputs": [],
   "source": [
    "import requests\n",
    "import pandas as pd\n",
    "from datetime import datetime as dt"
   ]
  },
  {
   "cell_type": "code",
   "execution_count": null,
   "id": "c29a7f17",
   "metadata": {},
   "outputs": [],
   "source": [
    "#address = 'ACCOUNT_ADDRESS'\n",
    "address = input(\"Enter your Ronin address:\")"
   ]
  },
  {
   "cell_type": "code",
   "execution_count": null,
   "id": "0b99245f",
   "metadata": {},
   "outputs": [],
   "source": [
    "if address[:6] == 'ronin:':\n",
    "    address = address[6:]\n",
    "if address[:2] == '0x':\n",
    "    address = address[2:]"
   ]
  },
  {
   "cell_type": "code",
   "execution_count": null,
   "id": "7f3f8421",
   "metadata": {},
   "outputs": [],
   "source": [
    "if len(address) != 40:\n",
    "    print(\"This is not a valid Ronin address\")"
   ]
  },
  {
   "cell_type": "code",
   "execution_count": null,
   "id": "65f81c2c",
   "metadata": {},
   "outputs": [],
   "source": [
    "tokens = {'axie': 'AXIE #', 'land': 'LAND #', 'item': 'ITEM #', 'rune': 'RUNE #', 'charm': 'CHARM #', 'slp': 'SLP', 'axs': 'AXS', 'usdc-weth-lp': 'USDC-WETH LP',\n",
    "                                'ron-weth-lp': 'RON-WETH LP', 'axs-weth-lp': 'AXS-WETH LP', 'slp-weth-lp': 'SLP-WETH LP', 'usdc': 'USDC', 'aec': 'AEC', 'weth': 'ETH'}"
   ]
  },
  {
   "cell_type": "code",
   "execution_count": null,
   "id": "bd631e9f",
   "metadata": {},
   "outputs": [],
   "source": [
    "multipliers = {'slp': 1, 'axs': 1e-18, 'usdc-weth-lp': 1e-18, 'ron-weth-lp': 1e-18, 'axs-weth-lp': 1e-18,\n",
    "               'slp-weth-lp': 1e-18, 'usdc': 1e-6, 'aec': 1, 'weth': 1e-18}"
   ]
  },
  {
   "cell_type": "code",
   "execution_count": null,
   "id": "d7aeca9a",
   "metadata": {},
   "outputs": [],
   "source": [
    "report = pd.DataFrame(columns = ['Date', 'Sent Amount', 'Sent Currency', 'Received Amount', 'Received Currency',\n",
    "                      'Fee Amount', 'Fee Currency', 'Description', 'TxHash'])"
   ]
  },
  {
   "cell_type": "code",
   "execution_count": null,
   "id": "aef3d2b3",
   "metadata": {
    "scrolled": true
   },
   "outputs": [],
   "source": [
    "for token in list(tokens.keys())[:5]:\n",
    "    page = 1\n",
    "    print(tokens[token][:-2] + \"S: Completed pages: \", end=\"\")\n",
    "    while True:\n",
    "        url = 'https://ronin.rest/archive/getWalletTransferHistory/' + token + '/ronin:b7e5e61b89cdd425a729b0b76bef5c77986cb475?page=' + str(page)\n",
    "        response = requests.request(\"GET\", url, headers={}, data={})\n",
    "        if len(response.json()[\"transfers\"]) == 0:\n",
    "            print(\"\")\n",
    "            break\n",
    "        for item in response.json()[\"transfers\"]:\n",
    "            txId = item['transaction_id']\n",
    "            url = 'https://ronin.rest/ronin/getTransactionReceipt/' + txId\n",
    "            receipt = requests.request(\"GET\", url, headers={}, data={})\n",
    "            url = 'https://ronin.rest/ronin/decodeTransactionReceipt/' + txId\n",
    "            decode = requests.request(\"GET\", url, headers={}, data={})\n",
    "            blockHt = receipt.json()['blockNumber']\n",
    "            url = 'https://ronin.rest/ronin/getBlock/' + str(blockHt)\n",
    "            block = requests.request(\"GET\", url, headers={}, data={})\n",
    "            date = dt.fromtimestamp(block.json()['timestamp'])\n",
    "            date = dt.strptime(str(date), '%Y-%m-%d %H:%M:%S')\n",
    "            fee = 0\n",
    "            if txId not in report.TxHash:\n",
    "                fee = receipt.json()['gasUsed'] * receipt.json()['effectiveGasPrice']\n",
    "            desc = tokens[token] + str(int('0x' + item['value_or_token_id'], base=16))\n",
    "            if item['from'] == '0x' + address:\n",
    "                report = report.append({'Date': date, 'Sent Amount': 1.0, 'Sent Currency': 'NULL', 'Fee Amount': fee * 1e-18,\n",
    "                      'Fee Currency': 'RON', 'Description': desc, 'TxHash': txId}, ignore_index=True)\n",
    "            else:\n",
    "                report = report.append({'Date': date, 'Received Amount': 1.0, 'Received Currency': 'NULL', 'Fee Amount': fee * 1e-18,\n",
    "                      'Fee Currency': 'RON', 'Description': desc, 'TxHash': txId}, ignore_index=True)\n",
    "        print(page, end=\" \")\n",
    "        page += 1"
   ]
  },
  {
   "cell_type": "code",
   "execution_count": null,
   "id": "b6c99203",
   "metadata": {},
   "outputs": [],
   "source": [
    "for token in list(tokens.keys())[5:]:\n",
    "    page = 1\n",
    "    print(tokens[token] + \": Completed pages: \", end=\"\")\n",
    "    while True:\n",
    "        url = 'https://ronin.rest/archive/getWalletTransferHistory/' + token + '/ronin:b7e5e61b89cdd425a729b0b76bef5c77986cb475?page=' + str(page)\n",
    "        response = requests.request(\"GET\", url, headers={}, data={})\n",
    "        if len(response.json()[\"transfers\"]) == 0:\n",
    "            print(\"\")\n",
    "            break\n",
    "        for item in response.json()[\"transfers\"]:\n",
    "            txId = item['transaction_id']\n",
    "            url = 'https://ronin.rest/ronin/getTransactionReceipt/' + txId\n",
    "            receipt = requests.request(\"GET\", url, headers={}, data={})\n",
    "            url = 'https://ronin.rest/ronin/decodeTransactionReceipt/' + txId\n",
    "            decode = requests.request(\"GET\", url, headers={}, data={})\n",
    "            blockHt = receipt.json()['blockNumber']\n",
    "            url = 'https://ronin.rest/ronin/getBlock/' + str(blockHt)\n",
    "            block = requests.request(\"GET\", url, headers={}, data={})\n",
    "            date = dt.fromtimestamp(block.json()['timestamp'])\n",
    "            date = dt.strptime(str(date), '%Y-%m-%d %H:%M:%S')\n",
    "            fee = 0\n",
    "            if txId not in report.TxHash:\n",
    "                fee = receipt.json()['gasUsed'] * receipt.json()['effectiveGasPrice']\n",
    "            amount = int('0x' + item['value_or_token_id'], base=16) * multipliers[token]\n",
    "            currency = tokens[token]\n",
    "            if item['from'] == '0x' + address:\n",
    "                report = report.append({'Date': date, 'Sent Amount': amount, 'Sent Currency': currency,\n",
    "                      'Fee Amount': fee * 1e-18, 'Fee Currency': 'RON', 'TxHash': txId}, ignore_index=True)\n",
    "            else:\n",
    "                report = report.append({'Date': date, 'Received Amount': amount, 'Received Currency': currency,\n",
    "                      'Fee Amount': fee * 1e-18, 'Fee Currency': 'RON', 'TxHash': txId}, ignore_index=True)\n",
    "            if token == 'weth':\n",
    "                for entry in decode.json()['decodedInput']:\n",
    "                    if 'address' in entry:\n",
    "                        if entry['address'].lower() == '0xe514d9deb7966c8be0ca922de8a064264ea6bcd4':\n",
    "                            for entry1 in decode.json()['decodedInput']:\n",
    "                                if 'name' in entry1:\n",
    "                                    if entry1['name'] == 'Swap':\n",
    "                                        if entry1['events'][2]['value'] != '0':\n",
    "                                            ronAmt = int(entry1['events'][2]['value'])\n",
    "                                            report = report.append({'Date': date, 'Sent Amount': ronAmt * 1e-18,\n",
    "                                                                    'Sent Currency': 'RON', 'TxHash': txId}, ignore_index=True)\n",
    "                                            break\n",
    "                                        if entry1['events'][4]['value'] != '0':\n",
    "                                            ronAmt = int(entry1['events'][4]['value'])\n",
    "                                            report = report.append({'Date': date, 'Received Amount': ronAmt * 1e-18,\n",
    "                                                                    'Received Currency': 'RON', 'TxHash': txId}, ignore_index=True)\n",
    "                                            break                            \n",
    "                                    if entry1['name'] == 'Mint':\n",
    "                                        ronAmt = int(entry1['events'][2]['value'])\n",
    "                                        report = report.append({'Date': date, 'Sent Amount': ronAmt * 1e-18,\n",
    "                                                                'Sent Currency': 'RON', 'TxHash': txId}, ignore_index=True)\n",
    "                                        break\n",
    "                                    if entry1['name'] == 'Burn':\n",
    "                                        ronAmt = int(entry1['events'][2]['value'])\n",
    "                                        report = report.append({'Date': date, 'Received Amount': ronAmt * 1e-18,\n",
    "                                                                'Received Currency': 'RON', 'TxHash': txId}, ignore_index=True)\n",
    "                                        break\n",
    "                            break             \n",
    "        print(page, end=\" \")\n",
    "        page += 1"
   ]
  },
  {
   "cell_type": "code",
   "execution_count": null,
   "id": "3e775d28",
   "metadata": {},
   "outputs": [],
   "source": [
    "report"
   ]
  },
  {
   "cell_type": "code",
   "execution_count": null,
   "id": "ecb2128b",
   "metadata": {},
   "outputs": [],
   "source": [
    "filename = \"Ronin_txs_\" + address + \"_\" + dt.strftime(dt.now(), \"%Y%m%d_%H%M%S\") + \".csv\""
   ]
  },
  {
   "cell_type": "code",
   "execution_count": null,
   "id": "1dc1f8ff",
   "metadata": {},
   "outputs": [],
   "source": [
    "report.to_csv(filename, index=False)"
   ]
  }
 ],
 "metadata": {
  "kernelspec": {
   "display_name": "Python 3 (ipykernel)",
   "language": "python",
   "name": "python3"
  },
  "language_info": {
   "codemirror_mode": {
    "name": "ipython",
    "version": 3
   },
   "file_extension": ".py",
   "mimetype": "text/x-python",
   "name": "python",
   "nbconvert_exporter": "python",
   "pygments_lexer": "ipython3",
   "version": "3.9.7"
  }
 },
 "nbformat": 4,
 "nbformat_minor": 5
}
