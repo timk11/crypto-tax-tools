{
 "cells": [
  {
   "cell_type": "markdown",
   "id": "07c7ae44",
   "metadata": {},
   "source": [
    "# Solana Tax Reporter #\n",
    "This notebook will produce a CSV file compatible with Koinly, which can be modified for other tax report formats.\n",
    "\n",
    "The resulting file may possibly contain errors or omissions, so please check the file manually before using it. Trades involving more than 2 coins will split into parts. More complex transactions may need to be entered or edited manually."
   ]
  },
  {
   "cell_type": "code",
   "execution_count": null,
   "id": "5658e73b",
   "metadata": {},
   "outputs": [],
   "source": [
    "## Uncheck below if package is not yet already installed\n",
    "#pip install base58"
   ]
  },
  {
   "cell_type": "code",
   "execution_count": null,
   "id": "33cc4e5d",
   "metadata": {},
   "outputs": [],
   "source": [
    "import requests\n",
    "import json\n",
    "import pandas as pd\n",
    "from datetime import datetime as dt\n",
    "import base58\n",
    "import base64\n",
    "import struct"
   ]
  },
  {
   "cell_type": "code",
   "execution_count": null,
   "id": "a90e1c48",
   "metadata": {},
   "outputs": [],
   "source": [
    "#pubkey = 'ACCOUNT_PUBLIC_KEY'\n",
    "pubkey = input('Enter account public key:')"
   ]
  },
  {
   "cell_type": "code",
   "execution_count": null,
   "id": "b8bc0b96",
   "metadata": {},
   "outputs": [],
   "source": [
    "url = 'https://api.mainnet-beta.solana.com'"
   ]
  },
  {
   "cell_type": "code",
   "execution_count": null,
   "id": "2bfa04c7",
   "metadata": {},
   "outputs": [],
   "source": [
    "def call(method, params):\n",
    "    response = requests.post(url, headers = {'Content-Type': 'application/json'},\n",
    "                            data = json.dumps({'jsonrpc': '2.0', 'id': 1, 'method': method, 'params': params}))\n",
    "    return response"
   ]
  },
  {
   "cell_type": "code",
   "execution_count": null,
   "id": "76f90129",
   "metadata": {},
   "outputs": [],
   "source": [
    "response = call('getSignaturesForAddress', [pubkey])\n",
    "sigs = [line['signature'] for line in response.json()['result']]\n",
    "[str(len(sigs)) + \" Transactions\", sigs]"
   ]
  },
  {
   "cell_type": "code",
   "execution_count": null,
   "id": "1ece8275",
   "metadata": {},
   "outputs": [],
   "source": [
    "df = pd.DataFrame(columns=['date', 'timestamp', 'preSOL', 'postSOL', 'fee', 'tokenTransfers', 'tokenBalances', 'txSig'])"
   ]
  },
  {
   "cell_type": "code",
   "execution_count": null,
   "id": "02ecf6d4",
   "metadata": {},
   "outputs": [],
   "source": [
    "for sig in sigs:\n",
    "    response = call('getTransaction', [sig])\n",
    "    timestamp = response.json()['result']['blockTime']\n",
    "    date = dt.strftime(dt.fromtimestamp(timestamp), '%Y-%m-%d %H:%M:%S')\n",
    "    ix = response.json()['result']['transaction']['message']['accountKeys'].index(pubkey)\n",
    "    preSOL = response.json()['result']['meta']['preBalances'][ix] / 10**9\n",
    "    postSOL = response.json()['result']['meta']['postBalances'][ix] / 10**9\n",
    "    reqSig = response.json()['result']['transaction']['message']['header']['numRequiredSignatures']\n",
    "    if pubkey in response.json()['result']['transaction']['message']['accountKeys'][:reqSig]:\n",
    "        fee = response.json()['result']['meta']['fee'] / 10**9\n",
    "    else:\n",
    "        fee = 0\n",
    "    if len(response.json()['result']['meta']['preTokenBalances']) > 0:\n",
    "        tokenTfs = []\n",
    "        for i in range(len(response.json()['result']['meta']['preTokenBalances'])):\n",
    "            if response.json()['result']['meta']['preTokenBalances'][i]['owner'] == pubkey:\n",
    "                tokenTfs.append([response.json()['result']['meta']['preTokenBalances'][i]['mint'],\n",
    "                                -(response.json()['result']['meta']['preTokenBalances'][i]['uiTokenAmount']['uiAmount'] or 0)])\n",
    "        for i in range(len(response.json()['result']['meta']['postTokenBalances'])):\n",
    "            if response.json()['result']['meta']['postTokenBalances'][i]['owner'] == pubkey:\n",
    "                tokenTfs.append([response.json()['result']['meta']['postTokenBalances'][i]['mint'],\n",
    "                                response.json()['result']['meta']['postTokenBalances'][i]['uiTokenAmount']['uiAmount'] or 0])\n",
    "        df = df.append({'date': date, 'timestamp': timestamp, 'preSOL': preSOL, 'postSOL': postSOL,\n",
    "                   'fee': fee, 'tokenTransfers': tokenTfs, 'tokenBalances': {}, 'txSig': sig}, ignore_index=True)\n",
    "    else:\n",
    "        df = df.append({'date': date, 'timestamp': timestamp, 'preSOL': preSOL,\n",
    "                   'postSOL': postSOL, 'fee': fee, 'tokenBalances': {}, 'txSig': sig}, ignore_index=True)"
   ]
  },
  {
   "cell_type": "code",
   "execution_count": null,
   "id": "cdcd7133",
   "metadata": {
    "scrolled": true
   },
   "outputs": [],
   "source": [
    "df"
   ]
  },
  {
   "cell_type": "code",
   "execution_count": null,
   "id": "003bb338",
   "metadata": {},
   "outputs": [],
   "source": [
    "# Token metadata search method adapted from\n",
    "#   https://stackoverflow.com/questions/70481436/read-json-metadata-for-a-token-from-solscan/70481555#70481555\n",
    "\n",
    "tokens = {}\n",
    "headers = {'User-Agent':\n",
    "           'Mozilla/5.0 (Macintosh; Intel Mac OS X 10_11_5) AppleWebKit/537.36 (KHTML, like Gecko) Chrome/50.0.2661.102 Safari/537.36'}\n",
    "for ix in df.index:\n",
    "    if abs(df['postSOL'][ix] + df['fee'][ix] - df['preSOL'][ix]) > 1e-9:\n",
    "        df.loc[ix, 'tokenBalances']['SOL'] = df['postSOL'][ix] + df['fee'][ix] - df['preSOL'][ix]\n",
    "    if type(df['tokenTransfers'][ix]) == type([]):\n",
    "        for bal in df['tokenTransfers'][ix]:\n",
    "            if bal[0] not in tokens:\n",
    "                params = {'address': bal[0]}\n",
    "                response = requests.get('https://api.solscan.io/account', headers=headers, params=params)\n",
    "                metadata = response.json()['data']['tokenInfo']\n",
    "                if metadata['type'] == 'nft':\n",
    "                    token = \"_\" + metadata['name']\n",
    "                else:\n",
    "                    token = metadata['symbol']\n",
    "                tokens[bal[0]] = token\n",
    "            if tokens[bal[0]] in df['tokenBalances'][ix]:\n",
    "                df.loc[ix, 'tokenBalances'][tokens[bal[0]]] += bal[1]\n",
    "            else:\n",
    "                df.loc[ix, 'tokenBalances'][tokens[bal[0]]] = bal[1]"
   ]
  },
  {
   "cell_type": "code",
   "execution_count": null,
   "id": "558d8d0b",
   "metadata": {},
   "outputs": [],
   "source": [
    "tokens"
   ]
  },
  {
   "cell_type": "code",
   "execution_count": null,
   "id": "1cca3fdd",
   "metadata": {},
   "outputs": [],
   "source": [
    "df.tokenBalances.to_dict()"
   ]
  },
  {
   "cell_type": "code",
   "execution_count": null,
   "id": "b1e9f840",
   "metadata": {},
   "outputs": [],
   "source": [
    "columns = ['Date', 'Sent Amount', 'Sent Currency', 'Received Amount', 'Received Currency',\n",
    "           'Fee Amount', 'Fee Currency', 'Description', 'TxHash']\n",
    "report = pd.DataFrame(columns=columns)"
   ]
  },
  {
   "cell_type": "code",
   "execution_count": null,
   "id": "1e1b798f",
   "metadata": {},
   "outputs": [],
   "source": [
    "for ix in df.index:\n",
    "    toks = []; bals = []\n",
    "    for k,v in df['tokenBalances'][ix].items():\n",
    "        toks.append(k); bals.append(v)\n",
    "    if len(df['tokenBalances'][ix]) == 1:\n",
    "        if bals[0] > 0:\n",
    "            recAmt = bals[0]\n",
    "            if toks[0][0] == '_':\n",
    "                recCur = 'NULL'; desc = toks[0][1:]\n",
    "                report = report.append({'Date': df['date'][ix], 'Received Amount': recAmt, 'Received Currency': recCur,\n",
    "                                        'Fee Amount': df['fee'][ix], 'Fee Currency': 'SOL', 'Description': desc,\n",
    "                                        'TxHash': df['txSig'][ix]}, ignore_index=True)\n",
    "            else:\n",
    "                recCur = toks[0]\n",
    "                report = report.append({'Date': df['date'][ix], 'Received Amount': recAmt, 'Received Currency': recCur,\n",
    "                                        'Fee Amount': df['fee'][ix], 'Fee Currency': 'SOL', 'TxHash': df['txSig'][ix]},\n",
    "                                      ignore_index=True)\n",
    "        else:\n",
    "            sentAmt = -bals[0]\n",
    "            if toks[0][0] == '_':\n",
    "                sentCur = 'NULL'; desc = toks[0][1:]\n",
    "                report = report.append({'Date': df['date'][ix], 'Sent Amount':sentAmt, 'Sent Currency': sentCur,\n",
    "                                        'Fee Amount': df['fee'][ix], 'Fee Currency': 'SOL', 'Description': desc,\n",
    "                                        'TxHash': df['txSig'][ix]}, ignore_index=True)\n",
    "            else:\n",
    "                sentCur = toks[0]\n",
    "                report = report.append({'Date': df['date'][ix], 'Sent Amount': sentAmt, 'Sent Currency': sentCur,\n",
    "                                        'Fee Amount': df['fee'][ix], 'Fee Currency': 'SOL', 'TxHash': df['txSig'][ix]},\n",
    "                                       ignore_index=True)\n",
    "    elif len(df['tokenBalances'][ix]) == 2:\n",
    "        if bals[0] > bals[1]:\n",
    "            r = 0; s = 1\n",
    "        else:\n",
    "            r = 1; s = 0\n",
    "        recAmt = bals[r]; sentAmt = -bals[s]; desc = 'Trade'\n",
    "        if toks[r][0] == '_':\n",
    "            recCur = 'NULL'; desc = toks[r][1:]\n",
    "        else:\n",
    "            recCur = toks[r]\n",
    "        if toks[s][0] == '_':\n",
    "            sentCur = 'NULL'; desc = toks[s][1:]\n",
    "        else:\n",
    "            sentCur = toks[s]\n",
    "        report = report.append({'Date': df['date'][ix], 'Sent Amount': sentAmt, 'Sent Currency': sentCur,\n",
    "                                'Received Amount': recAmt, 'Received Currency': recCur, 'Fee Amount': df['fee'][ix],\n",
    "                                'Fee Currency': 'SOL', 'Description': desc, 'TxHash': df['txSig'][ix]}, ignore_index=True)\n",
    "    elif len(df['tokenBalances'][ix]) > 2:\n",
    "        for i in range(len(df['tokenBalances'][ix])):\n",
    "            desc = \"Multicoin trade: part \" + str(i+1) + \" of \" + str(len(df['tokenBalances'][ix]))\n",
    "            if i == 0:\n",
    "                fee = df['fee'][ix]\n",
    "            else:\n",
    "                fee = 0\n",
    "            if bals[i] > 0:\n",
    "                recAmt = bals[i]\n",
    "                if toks[i][0] == '_':\n",
    "                    recCur = 'NULL'; desc = toks[i][1:]\n",
    "                    report = report.append({'Date': df['date'][ix], 'Received Amount': recAmt, 'Received Currency': recCur,\n",
    "                                            'Fee Amount': fee, 'Fee Currency': 'SOL', 'Description': desc,\n",
    "                                            'TxHash': df['txSig'][ix]}, ignore_index=True)\n",
    "                else:\n",
    "                    recCur = toks[i]\n",
    "                    report = report.append({'Date': df['date'][ix], 'Received Amount': recAmt, 'Received Currency': recCur,\n",
    "                                            'Fee Amount': fee, 'Fee Currency': 'SOL', 'Description': desc,\n",
    "                                            'TxHash': df['txSig'][ix]}, ignore_index=True)\n",
    "            else:\n",
    "                sentAmt = -bals[i]\n",
    "                if toks[i][0] == '_':\n",
    "                    sentCur = 'NULL'; desc = toks[i][1:]\n",
    "                    report = report.append({'Date': df['date'][ix], 'Sent Amount':sentAmt, 'Sent Currency': sentCur,\n",
    "                                            'Fee Amount': fee, 'Fee Currency': 'SOL', 'Description': desc,\n",
    "                                            'TxHash': df['txSig'][ix]}, ignore_index=True)\n",
    "                else:\n",
    "                    sentCur = toks[i]\n",
    "                    report = report.append({'Date': df['date'][ix], 'Sent Amount': sentAmt, 'Sent Currency': sentCur,\n",
    "                                            'Fee Amount': fee, 'Fee Currency': 'SOL', 'Description': desc,\n",
    "                                            'TxHash': df['txSig'][ix]}, ignore_index=True)"
   ]
  },
  {
   "cell_type": "code",
   "execution_count": null,
   "id": "d58c036f",
   "metadata": {
    "scrolled": false
   },
   "outputs": [],
   "source": [
    "report"
   ]
  },
  {
   "cell_type": "code",
   "execution_count": null,
   "id": "b2b8384c",
   "metadata": {},
   "outputs": [],
   "source": [
    "filename = \"Solana_txs_\" + pubkey + \"_\" + dt.strftime(dt.now(), \"%Y%m%d_%H%M%S\") + \".csv\""
   ]
  },
  {
   "cell_type": "code",
   "execution_count": null,
   "id": "23237f60",
   "metadata": {},
   "outputs": [],
   "source": [
    "report.to_csv(filename, index=False)"
   ]
  }
 ],
 "metadata": {
  "kernelspec": {
   "display_name": "Python 3 (ipykernel)",
   "language": "python",
   "name": "python3"
  },
  "language_info": {
   "codemirror_mode": {
    "name": "ipython",
    "version": 3
   },
   "file_extension": ".py",
   "mimetype": "text/x-python",
   "name": "python",
   "nbconvert_exporter": "python",
   "pygments_lexer": "ipython3",
   "version": "3.9.7"
  }
 },
 "nbformat": 4,
 "nbformat_minor": 5
}
